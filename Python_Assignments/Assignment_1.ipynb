{
 "cells": [
  {
   "cell_type": "markdown",
   "metadata": {},
   "source": [
    "Question 1: How do lists and tuples differ in terms of mutability and \n",
    "performance? When would you choose one over the other?"
   ]
  },
  {
   "cell_type": "markdown",
   "metadata": {},
   "source": [
    "Lists and Tuples differs from each other:\n",
    "1. Lists are mutable while the Tuples are immutable which means we can't change the tuples if they initialized once. \n",
    "2. When want that some data should not be change by anyone after initializing it then we use Tuples and when we want to combinning multiple things then we use Lists."
   ]
  },
  {
   "cell_type": "markdown",
   "metadata": {},
   "source": [
    "Explain how Python handles type conversion between different data \n",
    "types, such as between integers and floats or between strings and \n",
    "lists. "
   ]
  },
  {
   "cell_type": "code",
   "execution_count": 19,
   "metadata": {},
   "outputs": [
    {
     "name": "stdout",
     "output_type": "stream",
     "text": [
      "6\n",
      "6.0\n",
      "(6+0j)\n",
      "True\n",
      "(1, 2, 3, 4, 5)\n",
      "{1, 2, 3, 4, 5}\n",
      "{0: 1, 1: 2, 2: 3, 3: 4, 4: 5}\n"
     ]
    }
   ],
   "source": [
    "## Here are the some examples of Type conversion between different data types\n",
    "\n",
    "number = 6.0000\n",
    "\n",
    "# convert float to int\n",
    "print(int(number))\n",
    "\n",
    "# convert float to string\n",
    "print(str(number)) \n",
    "\n",
    "# convert float to complex\n",
    "print(complex(number))\n",
    "\n",
    "# convert float to bool\n",
    "print(bool(number))\n",
    "\n",
    "List = [1, 2, 3, 4, 5]\n",
    "\n",
    "# convert list to tuple\n",
    "print(tuple(List))\n",
    "\n",
    "# convert list to set\n",
    "print(set(List))\n",
    "\n",
    "# convert list to dictionary\n",
    "print(dict(enumerate(List)))\n"
   ]
  },
  {
   "cell_type": "markdown",
   "metadata": {},
   "source": [
    "Question 3: Take a number and use the += operator to increase its value by 10. "
   ]
  },
  {
   "cell_type": "code",
   "execution_count": 1,
   "metadata": {},
   "outputs": [
    {
     "name": "stdout",
     "output_type": "stream",
     "text": [
      "12\n"
     ]
    }
   ],
   "source": [
    "num = int(input(\"Enter any number\"))\n",
    "\n",
    "num += 10\n",
    "print(num)"
   ]
  },
  {
   "cell_type": "markdown",
   "metadata": {},
   "source": [
    "Question 4: Write a Python program to check if a given year is a leap year or not. "
   ]
  },
  {
   "cell_type": "code",
   "execution_count": 13,
   "metadata": {},
   "outputs": [
    {
     "name": "stdout",
     "output_type": "stream",
     "text": [
      "Leap year\n"
     ]
    }
   ],
   "source": [
    "year = int(input(\"Enter the year\"))\n",
    "\n",
    "if(year % 4 == 0):\n",
    "    if(year % 100 == 0):\n",
    "        if(year % 400 == 0):\n",
    "            print(\"Leap year\")\n",
    "        else:\n",
    "            print(\"Not a leap year\")\n",
    "    else:\n",
    "        print(\"Leap year\")\n",
    "else:\n",
    "    print(\"Not a leap year\")"
   ]
  },
  {
   "cell_type": "markdown",
   "metadata": {},
   "source": [
    "Question 5: Write a program that asks the user to enter their marks and displays \n",
    "their grade: \n",
    "\n",
    "• 90-100: A \n",
    "\n",
    "• 80-89: B \n",
    "\n",
    "• 70-79: C \n",
    "\n",
    "• 60-69: D \n",
    "\n",
    "• Below 60: F"
   ]
  },
  {
   "cell_type": "code",
   "execution_count": 6,
   "metadata": {},
   "outputs": [
    {
     "name": "stdout",
     "output_type": "stream",
     "text": [
      "Grades are not to calculate\n"
     ]
    }
   ],
   "source": [
    "marks = int(input(\"Enter your marks\"))\n",
    "\n",
    "if(marks >= 90 and marks <= 100):\n",
    "    print(\"A\")\n",
    "elif(marks >= 80 and marks < 90):\n",
    "    print(\"B\")\n",
    "elif(marks >= 70 and marks < 80):\n",
    "    print(\"C\")\n",
    "elif(marks >= 60 and marks < 70):\n",
    "    print(\"D\")\n",
    "elif(marks < 60):\n",
    "    print(\"Fail\")\n",
    "else:\n",
    "    print(\"Grades are not to calculate\")"
   ]
  },
  {
   "cell_type": "code",
   "execution_count": null,
   "metadata": {},
   "outputs": [],
   "source": []
  }
 ],
 "metadata": {
  "kernelspec": {
   "display_name": "base",
   "language": "python",
   "name": "python3"
  },
  "language_info": {
   "codemirror_mode": {
    "name": "ipython",
    "version": 3
   },
   "file_extension": ".py",
   "mimetype": "text/x-python",
   "name": "python",
   "nbconvert_exporter": "python",
   "pygments_lexer": "ipython3",
   "version": "3.12.7"
  }
 },
 "nbformat": 4,
 "nbformat_minor": 2
}
